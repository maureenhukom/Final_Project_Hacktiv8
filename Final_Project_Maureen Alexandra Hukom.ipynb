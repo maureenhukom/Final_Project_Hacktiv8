{
 "cells": [
  {
   "cell_type": "markdown",
   "id": "2c73f162",
   "metadata": {},
   "source": [
    "**INTRODUCTION**\n",
    "\n",
    "The topic taken for this final project is Classification, in which I've chosen the dataset titanic from kaggle. This dataset is split into two groups, training set and test set. The training dataset contains 891 rows and 12 columns. The columns in the training set are as follows : PassengerId, Survived, Pclass, Name, Sex, Age, SibSp, Parch, Ticket, Fare, Cabin, and Embarked. The test set contains 417 rows and 11 columns, with the columns are identical to the training one minus the Survived columns.\n",
    "\n",
    "In this project, we will train a model with machine learning with the training set to determine the survival rate of the passengers on the test set. \n",
    "\n",
    "Please download the dataset train.csv and test.csv from : https://www.kaggle.com/competitions/titanic/data"
   ]
  },
  {
   "cell_type": "code",
   "execution_count": 41,
   "id": "d626d5ef",
   "metadata": {},
   "outputs": [],
   "source": [
    "#Import all the needed library\n",
    "\n",
    "import pandas as pd\n",
    "import numpy as np\n",
    "import matplotlib.pyplot as plt\n",
    "import seaborn as sns\n",
    "\n",
    "%matplotlib inline\n",
    "\n",
    "from sklearn.model_selection import train_test_split\n",
    "from sklearn.metrics import classification_report, confusion_matrix, accuracy_score\n",
    "from sklearn.linear_model import LogisticRegression\n",
    "from sklearn import tree\n",
    "from sklearn.ensemble import RandomForestClassifier\n",
    "from sklearn import svm\n",
    "from sklearn.naive_bayes import GaussianNB\n",
    "from sklearn.neighbors import KNeighborsClassifier"
   ]
  },
  {
   "cell_type": "code",
   "execution_count": 42,
   "id": "ffbaaec5",
   "metadata": {},
   "outputs": [],
   "source": [
    "#Load the data\n",
    "data_train = pd.read_csv('train.csv')\n",
    "data_test = pd.read_csv('test.csv')"
   ]
  },
  {
   "cell_type": "code",
   "execution_count": 43,
   "id": "c0bb9d3c",
   "metadata": {},
   "outputs": [
    {
     "data": {
      "image/png": "[encoded data removed]",
      "text/plain": [
       "<Figure size 432x288 with 1 Axes>"
      ]
     },
     "metadata": {},
     "output_type": "display_data"
    }
   ],
   "source": [
    "#Data visualization\n",
    "#Visualize the survival rate of each gender\n",
    "sns.set_theme(style=\"whitegrid\")\n",
    "ax = sns.countplot(x=\"Sex\", hue = 'Survived', data=data_train)"
   ]
  },
  {
   "cell_type": "markdown",
   "id": "d0ac5fbc",
   "metadata": {},
   "source": [
    "**Data Preprocessing**"
   ]
  },
  {
   "cell_type": "code",
   "execution_count": 44,
   "id": "3cc1ce6e",
   "metadata": {},
   "outputs": [
    {
     "name": "stdout",
     "output_type": "stream",
     "text": [
      "Pclass        0\n",
      "Sex           0\n",
      "Age         177\n",
      "SibSp         0\n",
      "Parch         0\n",
      "Embarked      2\n",
      "dtype: int64 \n",
      "\n"
     ]
    }
   ],
   "source": [
    "#We will choose the features for the modelling as follows :\n",
    "features = [\"Pclass\", \"Sex\", \"Age\", \"SibSp\", \"Parch\", \"Embarked\"]\n",
    "\n",
    "#Check if there's any null cell\n",
    "print(data_train[features].isnull().sum(), '\\n')"
   ]
  },
  {
   "cell_type": "code",
   "execution_count": 45,
   "id": "d63f6ce1",
   "metadata": {},
   "outputs": [
    {
     "name": "stdout",
     "output_type": "stream",
     "text": [
      "Pclass      0\n",
      "Sex         0\n",
      "Age         0\n",
      "SibSp       0\n",
      "Parch       0\n",
      "Embarked    0\n",
      "dtype: int64 \n",
      "\n"
     ]
    }
   ],
   "source": [
    "#Fill the null cells\n",
    "data_train['Age'].fillna(data_train['Age'].mean(), inplace=True)\n",
    "data_train.Embarked.fillna(data_train.Embarked.mode()[0], inplace=True)\n",
    "\n",
    "print(data_train[features].isnull().sum(), '\\n')"
   ]
  },
  {
   "cell_type": "code",
   "execution_count": 46,
   "id": "9a4642d1",
   "metadata": {},
   "outputs": [
    {
     "data": {
      "text/html": [
       "<div>\n",
       "<style scoped>\n",
       "    .dataframe tbody tr th:only-of-type {\n",
       "        vertical-align: middle;\n",
       "    }\n",
       "\n",
       "    .dataframe tbody tr th {\n",
       "        vertical-align: top;\n",
       "    }\n",
       "\n",
       "    .dataframe thead th {\n",
       "        text-align: right;\n",
       "    }\n",
       "</style>\n",
       "<table border=\"1\" class=\"dataframe\">\n",
       "  <thead>\n",
       "    <tr style=\"text-align: right;\">\n",
       "      <th></th>\n",
       "      <th>PassengerId</th>\n",
       "      <th>Survived</th>\n",
       "      <th>Pclass</th>\n",
       "      <th>Name</th>\n",
       "      <th>Sex</th>\n",
       "      <th>Age</th>\n",
       "      <th>SibSp</th>\n",
       "      <th>Parch</th>\n",
       "      <th>Ticket</th>\n",
       "      <th>Fare</th>\n",
       "      <th>Cabin</th>\n",
       "      <th>Embarked</th>\n",
       "    </tr>\n",
       "  </thead>\n",
       "  <tbody>\n",
       "    <tr>\n",
       "      <th>0</th>\n",
       "      <td>1</td>\n",
       "      <td>0</td>\n",
       "      <td>3</td>\n",
       "      <td>Braund, Mr. Owen Harris</td>\n",
       "      <td>male</td>\n",
       "      <td>2</td>\n",
       "      <td>1</td>\n",
       "      <td>0</td>\n",
       "      <td>A/5 21171</td>\n",
       "      <td>7.2500</td>\n",
       "      <td>NaN</td>\n",
       "      <td>S</td>\n",
       "    </tr>\n",
       "    <tr>\n",
       "      <th>1</th>\n",
       "      <td>2</td>\n",
       "      <td>1</td>\n",
       "      <td>1</td>\n",
       "      <td>Cumings, Mrs. John Bradley (Florence Briggs Th...</td>\n",
       "      <td>female</td>\n",
       "      <td>4</td>\n",
       "      <td>1</td>\n",
       "      <td>0</td>\n",
       "      <td>PC 17599</td>\n",
       "      <td>71.2833</td>\n",
       "      <td>C85</td>\n",
       "      <td>C</td>\n",
       "    </tr>\n",
       "    <tr>\n",
       "      <th>2</th>\n",
       "      <td>3</td>\n",
       "      <td>1</td>\n",
       "      <td>3</td>\n",
       "      <td>Heikkinen, Miss. Laina</td>\n",
       "      <td>female</td>\n",
       "      <td>3</td>\n",
       "      <td>0</td>\n",
       "      <td>0</td>\n",
       "      <td>STON/O2. 3101282</td>\n",
       "      <td>7.9250</td>\n",
       "      <td>NaN</td>\n",
       "      <td>S</td>\n",
       "    </tr>\n",
       "    <tr>\n",
       "      <th>3</th>\n",
       "      <td>4</td>\n",
       "      <td>1</td>\n",
       "      <td>1</td>\n",
       "      <td>Futrelle, Mrs. Jacques Heath (Lily May Peel)</td>\n",
       "      <td>female</td>\n",
       "      <td>3</td>\n",
       "      <td>1</td>\n",
       "      <td>0</td>\n",
       "      <td>113803</td>\n",
       "      <td>53.1000</td>\n",
       "      <td>C123</td>\n",
       "      <td>S</td>\n",
       "    </tr>\n",
       "    <tr>\n",
       "      <th>4</th>\n",
       "      <td>5</td>\n",
       "      <td>0</td>\n",
       "      <td>3</td>\n",
       "      <td>Allen, Mr. William Henry</td>\n",
       "      <td>male</td>\n",
       "      <td>3</td>\n",
       "      <td>0</td>\n",
       "      <td>0</td>\n",
       "      <td>373450</td>\n",
       "      <td>8.0500</td>\n",
       "      <td>NaN</td>\n",
       "      <td>S</td>\n",
       "    </tr>\n",
       "  </tbody>\n",
       "</table>\n",
       "</div>"
      ],
      "text/plain": [
       "   PassengerId  Survived  Pclass  \\\n",
       "0            1         0       3   \n",
       "1            2         1       1   \n",
       "2            3         1       3   \n",
       "3            4         1       1   \n",
       "4            5         0       3   \n",
       "\n",
       "                                                Name     Sex Age  SibSp  \\\n",
       "0                            Braund, Mr. Owen Harris    male   2      1   \n",
       "1  Cumings, Mrs. John Bradley (Florence Briggs Th...  female   4      1   \n",
       "2                             Heikkinen, Miss. Laina  female   3      0   \n",
       "3       Futrelle, Mrs. Jacques Heath (Lily May Peel)  female   3      1   \n",
       "4                           Allen, Mr. William Henry    male   3      0   \n",
       "\n",
       "   Parch            Ticket     Fare Cabin Embarked  \n",
       "0      0         A/5 21171   7.2500   NaN        S  \n",
       "1      0          PC 17599  71.2833   C85        C  \n",
       "2      0  STON/O2. 3101282   7.9250   NaN        S  \n",
       "3      0            113803  53.1000  C123        S  \n",
       "4      0            373450   8.0500   NaN        S  "
      ]
     },
     "execution_count": 46,
     "metadata": {},
     "output_type": "execute_result"
    }
   ],
   "source": [
    "#We will categorize the age into 6 age ranges : infant and children, teens, young adults, adults, and elderly\n",
    "bins = [0,13,18,25,35,50,100]\n",
    "labels=[0,1,2,3,4,5]\n",
    "data_train['Age'] = pd.cut(data_train['Age'], bins=bins, labels=labels, include_lowest=True)\n",
    "data_train.head()"
   ]
  },
  {
   "cell_type": "code",
   "execution_count": 47,
   "id": "e587db14",
   "metadata": {},
   "outputs": [
    {
     "data": {
      "image/png": "[encoded data removed]",
      "text/plain": [
       "<Figure size 432x288 with 1 Axes>"
      ]
     },
     "metadata": {},
     "output_type": "display_data"
    }
   ],
   "source": [
    "#Now we can see the survival rate of each age group\n",
    "sns.set_theme(style=\"whitegrid\")\n",
    "ax = sns.countplot(x=\"Age\", hue = 'Survived', data=data_train)"
   ]
  },
  {
   "cell_type": "markdown",
   "id": "7fb03ef6",
   "metadata": {},
   "source": [
    "We can see that for infants and children, there's a higher chance of survival. The largest age group (young adults), has a low survival rate, with a ratio of around 2:3 of survival"
   ]
  },
  {
   "cell_type": "code",
   "execution_count": 48,
   "id": "8be8c626",
   "metadata": {},
   "outputs": [],
   "source": [
    "#We will encode the data so we can start modelling the algorithm\n",
    "X = data_train[features]\n",
    "y = data_train['Survived']\n",
    "\n",
    "X = pd.get_dummies(X)\n",
    "data_train = pd.get_dummies(data_train)"
   ]
  },
  {
   "cell_type": "code",
   "execution_count": 49,
   "id": "af6b1202",
   "metadata": {},
   "outputs": [],
   "source": [
    "#To start with, we will split the training data into two to train the model and validate the accuracy of the model\n",
    "X_train, X_cv, y_train, y_cv = train_test_split(X, y, test_size = 0.25)"
   ]
  },
  {
   "cell_type": "code",
   "execution_count": 50,
   "id": "1f43861e",
   "metadata": {},
   "outputs": [],
   "source": [
    "#We will test all types of modelling for the training set to find the most suitable one for the testing data\n",
    "#1. Logistic Regression\n",
    "model = LogisticRegression(C=10.0)\n",
    "model.fit(X_train, y_train)\n",
    "y_pred = model.predict(X_cv)\n",
    "\n",
    "dt = tree.DecisionTreeClassifier()\n",
    "dt.fit(X_train, y_train)\n",
    "y1_pred = dt.predict(X_cv)\n",
    "\n",
    "rf = RandomForestClassifier()\n",
    "rf.fit(X_train, y_train)\n",
    "y2_pred = rf.predict(X_cv)\n",
    "\n",
    "svm_model = svm.SVC()\n",
    "svm_model.fit(X_train, y_train)\n",
    "y3_pred = svm_model.predict(X_cv)\n",
    "\n",
    "nb = GaussianNB()\n",
    "nb.fit(X_train, y_train)\n",
    "y4_pred = nb.predict(X_cv)\n",
    "\n",
    "kNN = KNeighborsClassifier()\n",
    "kNN.fit(X_train, y_train)\n",
    "y5_pred = kNN.predict(X_cv)"
   ]
  },
  {
   "cell_type": "code",
   "execution_count": 51,
   "id": "b2483d3a",
   "metadata": {},
   "outputs": [
    {
     "name": "stdout",
     "output_type": "stream",
     "text": [
      "The accuracy for Logistic Regression model is:  0.820627802690583\n",
      "The confusion matrix for Logistic Regression model is:  \n",
      " [[117  19]\n",
      " [ 21  66]]\n",
      "\n",
      "The accuracy for Decision Tree model is:  0.7982062780269058\n",
      "The confusion matrix for Decision Tree model is:  \n",
      " [[123  13]\n",
      " [ 32  55]]\n",
      "\n",
      "The accuracy for Random Forest model is:  0.8161434977578476\n",
      "The confusion matrix for Random Forest model is:  \n",
      " [[125  11]\n",
      " [ 30  57]]\n",
      "\n",
      "The accuracy for SVM model is:  0.8385650224215246\n",
      "The confusion matrix for SVM model is:  \n",
      " [[122  14]\n",
      " [ 22  65]]\n",
      "\n",
      "The accuracy for Naive Bayes model is:  0.8116591928251121\n",
      "The confusion matrix for Naive Bayes model is:  \n",
      " [[112  24]\n",
      " [ 18  69]]\n",
      "\n",
      "The accuracy for KNeighbors Classifier model is:  0.7847533632286996\n",
      "The confusion matrix for KNeighbors Classifier model is:  \n",
      " [[121  15]\n",
      " [ 33  54]]\n"
     ]
    }
   ],
   "source": [
    "#Print the accuracies for each models and the confusion matrix\n",
    "print(\"The accuracy for Logistic Regression model is: \", accuracy_score(y_cv,y_pred))\n",
    "matrix = confusion_matrix(y_cv, y_pred)\n",
    "print(\"The confusion matrix for Logistic Regression model is: \", '\\n', matrix)\n",
    "print('')\n",
    "print(\"The accuracy for Decision Tree model is: \", accuracy_score(y_cv,y1_pred))\n",
    "matrix = confusion_matrix(y_cv, y1_pred)\n",
    "print(\"The confusion matrix for Decision Tree model is: \", '\\n', matrix)\n",
    "print('')\n",
    "print(\"The accuracy for Random Forest model is: \", accuracy_score(y_cv,y2_pred))\n",
    "matrix = confusion_matrix(y_cv, y2_pred)\n",
    "print(\"The confusion matrix for Random Forest model is: \", '\\n', matrix)\n",
    "print('')\n",
    "print(\"The accuracy for SVM model is: \", accuracy_score(y_cv,y3_pred))\n",
    "matrix = confusion_matrix(y_cv, y3_pred)\n",
    "print(\"The confusion matrix for SVM model is: \", '\\n', matrix)\n",
    "print('')\n",
    "print(\"The accuracy for Naive Bayes model is: \", accuracy_score(y_cv,y4_pred))\n",
    "matrix = confusion_matrix(y_cv, y4_pred)\n",
    "print(\"The confusion matrix for Naive Bayes model is: \", '\\n', matrix)\n",
    "print('')\n",
    "print(\"The accuracy for KNeighbors Classifier model is: \", accuracy_score(y_cv,y5_pred))\n",
    "matrix = confusion_matrix(y_cv, y5_pred)\n",
    "print(\"The confusion matrix for KNeighbors Classifier model is: \", '\\n', matrix)"
   ]
  },
  {
   "cell_type": "markdown",
   "id": "dd4f1c79",
   "metadata": {},
   "source": [
    "As we can see, the best accuracy gained is from the SVM model. So, we will use Random Forest model to predict the classification of the testing data."
   ]
  },
  {
   "cell_type": "code",
   "execution_count": 52,
   "id": "cf1a4a48",
   "metadata": {},
   "outputs": [
    {
     "data": {
      "text/html": [
       "<div>\n",
       "<style scoped>\n",
       "    .dataframe tbody tr th:only-of-type {\n",
       "        vertical-align: middle;\n",
       "    }\n",
       "\n",
       "    .dataframe tbody tr th {\n",
       "        vertical-align: top;\n",
       "    }\n",
       "\n",
       "    .dataframe thead th {\n",
       "        text-align: right;\n",
       "    }\n",
       "</style>\n",
       "<table border=\"1\" class=\"dataframe\">\n",
       "  <thead>\n",
       "    <tr style=\"text-align: right;\">\n",
       "      <th></th>\n",
       "      <th>PassengerId</th>\n",
       "      <th>Survived</th>\n",
       "    </tr>\n",
       "  </thead>\n",
       "  <tbody>\n",
       "    <tr>\n",
       "      <th>0</th>\n",
       "      <td>892</td>\n",
       "      <td>0</td>\n",
       "    </tr>\n",
       "    <tr>\n",
       "      <th>1</th>\n",
       "      <td>893</td>\n",
       "      <td>1</td>\n",
       "    </tr>\n",
       "    <tr>\n",
       "      <th>2</th>\n",
       "      <td>894</td>\n",
       "      <td>0</td>\n",
       "    </tr>\n",
       "    <tr>\n",
       "      <th>3</th>\n",
       "      <td>895</td>\n",
       "      <td>0</td>\n",
       "    </tr>\n",
       "    <tr>\n",
       "      <th>4</th>\n",
       "      <td>896</td>\n",
       "      <td>1</td>\n",
       "    </tr>\n",
       "    <tr>\n",
       "      <th>...</th>\n",
       "      <td>...</td>\n",
       "      <td>...</td>\n",
       "    </tr>\n",
       "    <tr>\n",
       "      <th>413</th>\n",
       "      <td>1305</td>\n",
       "      <td>0</td>\n",
       "    </tr>\n",
       "    <tr>\n",
       "      <th>414</th>\n",
       "      <td>1306</td>\n",
       "      <td>1</td>\n",
       "    </tr>\n",
       "    <tr>\n",
       "      <th>415</th>\n",
       "      <td>1307</td>\n",
       "      <td>0</td>\n",
       "    </tr>\n",
       "    <tr>\n",
       "      <th>416</th>\n",
       "      <td>1308</td>\n",
       "      <td>0</td>\n",
       "    </tr>\n",
       "    <tr>\n",
       "      <th>417</th>\n",
       "      <td>1309</td>\n",
       "      <td>0</td>\n",
       "    </tr>\n",
       "  </tbody>\n",
       "</table>\n",
       "<p>418 rows × 2 columns</p>\n",
       "</div>"
      ],
      "text/plain": [
       "     PassengerId  Survived\n",
       "0            892         0\n",
       "1            893         1\n",
       "2            894         0\n",
       "3            895         0\n",
       "4            896         1\n",
       "..           ...       ...\n",
       "413         1305         0\n",
       "414         1306         1\n",
       "415         1307         0\n",
       "416         1308         0\n",
       "417         1309         0\n",
       "\n",
       "[418 rows x 2 columns]"
      ]
     },
     "execution_count": 52,
     "metadata": {},
     "output_type": "execute_result"
    }
   ],
   "source": [
    "#Model inference\n",
    "#In this part, we will use the SVM model that we've trained to predict the \n",
    "#survival rate of the other passengers in the testing set \n",
    "\n",
    "data_test['Age'].fillna(data_test['Age'].mean(), inplace=True)\n",
    "\n",
    "bins = [0,13,18,25,35,50,100]\n",
    "labels=[0,1,2,3,4,5]\n",
    "data_test['Age'] = pd.cut(data_test['Age'], bins=bins, labels=labels, include_lowest=True)\n",
    "data_test.head()\n",
    "\n",
    "x_test = data_test[features]\n",
    "x_test = pd.get_dummies(x_test)\n",
    "data_test = pd.get_dummies(data_test)\n",
    "\n",
    "test_passenger_id = pd.DataFrame(data_test['PassengerId'])\n",
    "test_pred = svm_model.predict(x_test)\n",
    "test_pred_pd = pd.DataFrame(test_pred)\n",
    "\n",
    "test_passenger_id['Survived'] = test_pred_pd\n",
    "test_passenger_id"
   ]
  },
  {
   "cell_type": "code",
   "execution_count": 53,
   "id": "4a7170eb",
   "metadata": {},
   "outputs": [
    {
     "data": {
      "image/png": "[encoded data removed]",
      "text/plain": [
       "<Figure size 432x288 with 1 Axes>"
      ]
     },
     "metadata": {},
     "output_type": "display_data"
    }
   ],
   "source": [
    "#We can visualize the survival rate of the testing data\n",
    "ax = sns.countplot(x=\"Survived\", data=data_train)"
   ]
  },
  {
   "cell_type": "markdown",
   "id": "cb833a55",
   "metadata": {},
   "source": [
    "We can see that based on the trained model, around 550 passengers did not survive and around 330 passengers survived."
   ]
  },
  {
   "cell_type": "code",
   "execution_count": null,
   "id": "fe173269",
   "metadata": {},
   "outputs": [],
   "source": []
  }
 ],
 "metadata": {
  "kernelspec": {
   "display_name": "Python 3 (ipykernel)",
   "language": "python",
   "name": "python3"
  },
  "language_info": {
   "codemirror_mode": {
    "name": "ipython",
    "version": 3
   },
   "file_extension": ".py",
   "mimetype": "text/x-python",
   "name": "python",
   "nbconvert_exporter": "python",
   "pygments_lexer": "ipython3",
   "version": "3.9.12"
  }
 },
 "nbformat": 4,
 "nbformat_minor": 5
}
